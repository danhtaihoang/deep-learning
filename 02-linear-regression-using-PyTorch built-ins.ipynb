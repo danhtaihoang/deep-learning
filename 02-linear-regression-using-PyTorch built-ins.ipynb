{
 "cells": [
  {
   "cell_type": "markdown",
   "metadata": {},
   "source": [
    "## Linear Regression using PyTorch built-ins\n",
    "\n",
    "Credits: \\\n",
    "https://jovian.ai/aakashns/02-linear-regression"
   ]
  },
  {
   "cell_type": "code",
   "execution_count": 1,
   "metadata": {},
   "outputs": [],
   "source": [
    "import numpy as np\n",
    "import torch\n",
    "import torch.nn as nn\n",
    "from torch.utils.data import TensorDataset"
   ]
  },
  {
   "cell_type": "code",
   "execution_count": 2,
   "metadata": {},
   "outputs": [
    {
     "name": "stdout",
     "output_type": "stream",
     "text": [
      "[[ 73.  67.  43.]\n",
      " [ 91.  88.  64.]\n",
      " [ 87. 134.  58.]\n",
      " [102.  43.  37.]\n",
      " [ 69.  96.  70.]\n",
      " [ 73.  67.  43.]\n",
      " [ 91.  88.  64.]\n",
      " [ 87. 134.  58.]\n",
      " [102.  43.  37.]\n",
      " [ 69.  96.  70.]\n",
      " [ 73.  67.  43.]\n",
      " [ 91.  88.  64.]\n",
      " [ 87. 134.  58.]\n",
      " [102.  43.  37.]\n",
      " [ 69.  96.  70.]]\n",
      "(15, 3)\n"
     ]
    }
   ],
   "source": [
    "# features\n",
    "X = np.array([[73, 67, 43], [91, 88, 64], [87, 134, 58], \n",
    "             [102, 43, 37], [69, 96, 70], [73, 67, 43], \n",
    "             [91, 88, 64], [87, 134, 58], [102, 43, 37], \n",
    "             [69, 96, 70], [73, 67, 43], [91, 88, 64], \n",
    "             [87, 134, 58], [102, 43, 37], [69, 96, 70]], \n",
    "             dtype='float32')\n",
    "\n",
    "print(X)\n",
    "print(X.shape)"
   ]
  },
  {
   "cell_type": "code",
   "execution_count": 3,
   "metadata": {},
   "outputs": [
    {
     "name": "stdout",
     "output_type": "stream",
     "text": [
      "[[ 56.  70.]\n",
      " [ 81. 101.]\n",
      " [119. 133.]\n",
      " [ 22.  37.]\n",
      " [103. 119.]\n",
      " [ 56.  70.]\n",
      " [ 81. 101.]\n",
      " [119. 133.]\n",
      " [ 22.  37.]\n",
      " [103. 119.]\n",
      " [ 56.  70.]\n",
      " [ 81. 101.]\n",
      " [119. 133.]\n",
      " [ 22.  37.]\n",
      " [103. 119.]]\n",
      "(15, 2)\n"
     ]
    }
   ],
   "source": [
    "# target\n",
    "y = np.array([[56, 70], [81, 101], [119, 133], \n",
    "              [22, 37], [103, 119], [56, 70], \n",
    "             [81, 101], [119, 133], [22, 37], \n",
    "             [103, 119], [56, 70], [81, 101], \n",
    "             [119, 133], [22, 37], [103, 119]], \n",
    "             dtype='float32')\n",
    "print(y)\n",
    "print(y.shape)"
   ]
  },
  {
   "cell_type": "code",
   "execution_count": 4,
   "metadata": {},
   "outputs": [],
   "source": [
    "# Convert features and target to tensors\n",
    "X = torch.from_numpy(X)\n",
    "y = torch.from_numpy(y)\n",
    "#print('X:')\n",
    "#print(X)\n",
    "\n",
    "#print('y:')\n",
    "#print(y)"
   ]
  },
  {
   "cell_type": "markdown",
   "metadata": {},
   "source": [
    "We'll create a `TensorDataset`, which allows access to rows from inputs and targets as tuples, and provides standard APIs for working with many different types of datasets in PyTorch. This also allows us to access a small section of the training data using the array indexing notation (`[0:3]` for instance)."
   ]
  },
  {
   "cell_type": "code",
   "execution_count": 5,
   "metadata": {},
   "outputs": [
    {
     "data": {
      "text/plain": [
       "(tensor([[ 73.,  67.,  43.],\n",
       "         [ 91.,  88.,  64.],\n",
       "         [ 87., 134.,  58.]]),\n",
       " tensor([[ 56.,  70.],\n",
       "         [ 81., 101.],\n",
       "         [119., 133.]]))"
      ]
     },
     "execution_count": 5,
     "metadata": {},
     "output_type": "execute_result"
    }
   ],
   "source": [
    "# Define dataset\n",
    "train_ds = TensorDataset(X, y)\n",
    "train_ds[0:3]"
   ]
  },
  {
   "cell_type": "markdown",
   "metadata": {},
   "source": [
    "We'll also create a `DataLoader`, which can split the data into batches of a predefined size while training. It also provides other utilities like shuffling and random sampling of the data."
   ]
  },
  {
   "cell_type": "code",
   "execution_count": 6,
   "metadata": {},
   "outputs": [],
   "source": [
    "from torch.utils.data import DataLoader"
   ]
  },
  {
   "cell_type": "code",
   "execution_count": 7,
   "metadata": {},
   "outputs": [],
   "source": [
    "# Define data loader\n",
    "batch_size = 5\n",
    "train_dl = DataLoader(train_ds, batch_size, shuffle=True)"
   ]
  },
  {
   "cell_type": "markdown",
   "metadata": {},
   "source": [
    "The data loader is typically used in a `for-in` loop:"
   ]
  },
  {
   "cell_type": "code",
   "execution_count": 8,
   "metadata": {},
   "outputs": [
    {
     "name": "stdout",
     "output_type": "stream",
     "text": [
      "tensor([[102.,  43.,  37.],\n",
      "        [ 87., 134.,  58.],\n",
      "        [ 69.,  96.,  70.],\n",
      "        [102.,  43.,  37.],\n",
      "        [ 87., 134.,  58.]])\n",
      "tensor([[ 22.,  37.],\n",
      "        [119., 133.],\n",
      "        [103., 119.],\n",
      "        [ 22.,  37.],\n",
      "        [119., 133.]])\n"
     ]
    }
   ],
   "source": [
    "for xb, yb in train_dl:\n",
    "    print(xb)\n",
    "    print(yb)\n",
    "    break"
   ]
  },
  {
   "cell_type": "markdown",
   "metadata": {},
   "source": [
    "In each iteration, the data loader returns one batch of data, with the given batch size. If `shuffle` is set to `True`, it shuffles the training data before creating batches."
   ]
  },
  {
   "cell_type": "markdown",
   "metadata": {},
   "source": [
    "### nn.Linear"
   ]
  },
  {
   "cell_type": "markdown",
   "metadata": {},
   "source": [
    "Instead of initializing the weights & biases manually, we can define the model using the `nn.Linear` class from PyTorch, which does it automatically."
   ]
  },
  {
   "cell_type": "code",
   "execution_count": 9,
   "metadata": {},
   "outputs": [
    {
     "name": "stdout",
     "output_type": "stream",
     "text": [
      "Parameter containing:\n",
      "tensor([[ 0.2305, -0.5226, -0.2284],\n",
      "        [ 0.3058,  0.0065, -0.5566]], requires_grad=True)\n",
      "Parameter containing:\n",
      "tensor([-0.3548,  0.0347], requires_grad=True)\n"
     ]
    }
   ],
   "source": [
    "# Define model\n",
    "model = nn.Linear(3, 2)\n",
    "print(model.weight)\n",
    "print(model.bias)"
   ]
  },
  {
   "cell_type": "markdown",
   "metadata": {},
   "source": [
    "PyTorch models also have a helpful `.parameters` method, which returns a list containing all the weights and bias matrices present in the model."
   ]
  },
  {
   "cell_type": "code",
   "execution_count": 10,
   "metadata": {},
   "outputs": [
    {
     "data": {
      "text/plain": [
       "<generator object Module.parameters at 0x7fb6f1487450>"
      ]
     },
     "execution_count": 10,
     "metadata": {},
     "output_type": "execute_result"
    }
   ],
   "source": [
    "model.parameters()"
   ]
  },
  {
   "cell_type": "code",
   "execution_count": 11,
   "metadata": {},
   "outputs": [
    {
     "data": {
      "text/plain": [
       "[Parameter containing:\n",
       " tensor([[ 0.2305, -0.5226, -0.2284],\n",
       "         [ 0.3058,  0.0065, -0.5566]], requires_grad=True),\n",
       " Parameter containing:\n",
       " tensor([-0.3548,  0.0347], requires_grad=True)]"
      ]
     },
     "execution_count": 11,
     "metadata": {},
     "output_type": "execute_result"
    }
   ],
   "source": [
    "list(model.parameters())"
   ]
  },
  {
   "cell_type": "code",
   "execution_count": 12,
   "metadata": {},
   "outputs": [
    {
     "data": {
      "text/plain": [
       "tensor([[-28.3640,  -1.1371],\n",
       "        [-39.9864,  -7.1837],\n",
       "        [-63.5798,  -4.7672],\n",
       "        [ -7.7640,  10.9142],\n",
       "        [-50.6102, -17.1988],\n",
       "        [-28.3640,  -1.1371],\n",
       "        [-39.9864,  -7.1837],\n",
       "        [-63.5798,  -4.7672],\n",
       "        [ -7.7640,  10.9142],\n",
       "        [-50.6102, -17.1988],\n",
       "        [-28.3640,  -1.1371],\n",
       "        [-39.9864,  -7.1837],\n",
       "        [-63.5798,  -4.7672],\n",
       "        [ -7.7640,  10.9142],\n",
       "        [-50.6102, -17.1988]], grad_fn=<AddmmBackward>)"
      ]
     },
     "execution_count": 12,
     "metadata": {},
     "output_type": "execute_result"
    }
   ],
   "source": [
    "y_pred = model(X)\n",
    "y_pred"
   ]
  },
  {
   "cell_type": "markdown",
   "metadata": {},
   "source": [
    "### Loss function"
   ]
  },
  {
   "cell_type": "code",
   "execution_count": 13,
   "metadata": {},
   "outputs": [],
   "source": [
    "import torch.nn.functional as F"
   ]
  },
  {
   "cell_type": "markdown",
   "metadata": {},
   "source": [
    "The `nn.functional` package contains many useful loss functions and several other utilities."
   ]
  },
  {
   "cell_type": "code",
   "execution_count": 14,
   "metadata": {},
   "outputs": [],
   "source": [
    "# Define loss function\n",
    "loss_fn = F.mse_loss"
   ]
  },
  {
   "cell_type": "code",
   "execution_count": 15,
   "metadata": {},
   "outputs": [
    {
     "name": "stdout",
     "output_type": "stream",
     "text": [
      "tensor(13454.6963, grad_fn=<MseLossBackward>)\n"
     ]
    }
   ],
   "source": [
    "loss = loss_fn(model(X), y)\n",
    "print(loss)"
   ]
  },
  {
   "cell_type": "markdown",
   "metadata": {},
   "source": [
    "### Optimizer"
   ]
  },
  {
   "cell_type": "markdown",
   "metadata": {},
   "source": [
    "Instead of manually manipulating the model's weights & biases using gradients, we can use the optimizer `optim.SGD`. SGD stands for `stochastic gradient descent`. It is called `stochastic` because samples are selected in batches (often with random shuffling) instead of as a single group."
   ]
  },
  {
   "cell_type": "code",
   "execution_count": 17,
   "metadata": {},
   "outputs": [],
   "source": [
    "# Define optimizer\n",
    "opt = torch.optim.SGD(model.parameters(), lr=1e-5)"
   ]
  },
  {
   "cell_type": "markdown",
   "metadata": {},
   "source": [
    "Note that `model.parameters()` is passed as an argument to `optim.SGD`, so that the optimizer knows which matrices should be modified during the update step. Also, we can specify a learning rate which controls the amount by which the parameters are modified."
   ]
  },
  {
   "cell_type": "markdown",
   "metadata": {},
   "source": [
    "### Train the model\n",
    "We'll work batches of data, instead of processing the entire training data in every iteration. Let's define a utility function fit which trains the model for a given number of epochs."
   ]
  },
  {
   "cell_type": "code",
   "execution_count": 18,
   "metadata": {},
   "outputs": [],
   "source": [
    "# Utility function to train the model\n",
    "def fit(num_epochs, model, loss_fn, opt, train_dl):\n",
    "    \n",
    "    # Repeat for given number of epochs\n",
    "    for epoch in range(num_epochs):\n",
    "        \n",
    "        # Train with batches of data\n",
    "        for xb,yb in train_dl:\n",
    "            \n",
    "            # 1. Generate predictions\n",
    "            pred = model(xb)\n",
    "            \n",
    "            # 2. Calculate loss\n",
    "            loss = loss_fn(pred, yb)\n",
    "            \n",
    "            # 3. Compute gradients\n",
    "            loss.backward()\n",
    "            \n",
    "            # 4. Update parameters using gradients\n",
    "            opt.step()\n",
    "            \n",
    "            # 5. Reset the gradients to zero\n",
    "            opt.zero_grad()\n",
    "        \n",
    "        # Print the progress\n",
    "        if (epoch+1) % 10 == 0:\n",
    "            print('Epoch [{}/{}], Loss: {:.4f}'.format(epoch+1, num_epochs, loss.item()))"
   ]
  },
  {
   "cell_type": "code",
   "execution_count": 20,
   "metadata": {},
   "outputs": [
    {
     "name": "stdout",
     "output_type": "stream",
     "text": [
      "Epoch [10/100], Loss: 666.2463\n",
      "Epoch [20/100], Loss: 694.8779\n",
      "Epoch [30/100], Loss: 287.3572\n",
      "Epoch [40/100], Loss: 286.5207\n",
      "Epoch [50/100], Loss: 343.4597\n",
      "Epoch [60/100], Loss: 82.1083\n",
      "Epoch [70/100], Loss: 171.7728\n",
      "Epoch [80/100], Loss: 100.4312\n",
      "Epoch [90/100], Loss: 110.1005\n",
      "Epoch [100/100], Loss: 53.5318\n"
     ]
    }
   ],
   "source": [
    "fit(100, model, loss_fn, opt, train_dl)"
   ]
  },
  {
   "cell_type": "code",
   "execution_count": 21,
   "metadata": {},
   "outputs": [
    {
     "data": {
      "text/plain": [
       "tensor([[ 59.1456,  72.4246],\n",
       "        [ 81.1555,  95.7189],\n",
       "        [118.4337, 141.5985],\n",
       "        [ 32.2722,  48.0136],\n",
       "        [ 93.4522, 104.0567],\n",
       "        [ 59.1456,  72.4246],\n",
       "        [ 81.1555,  95.7189],\n",
       "        [118.4337, 141.5985],\n",
       "        [ 32.2722,  48.0136],\n",
       "        [ 93.4522, 104.0567],\n",
       "        [ 59.1456,  72.4246],\n",
       "        [ 81.1555,  95.7189],\n",
       "        [118.4337, 141.5985],\n",
       "        [ 32.2722,  48.0136],\n",
       "        [ 93.4522, 104.0567]], grad_fn=<AddmmBackward>)"
      ]
     },
     "execution_count": 21,
     "metadata": {},
     "output_type": "execute_result"
    }
   ],
   "source": [
    "# Generate predictions\n",
    "y_pred = model(X)\n",
    "y_pred"
   ]
  },
  {
   "cell_type": "code",
   "execution_count": 22,
   "metadata": {},
   "outputs": [
    {
     "data": {
      "text/plain": [
       "tensor([[ 56.,  70.],\n",
       "        [ 81., 101.],\n",
       "        [119., 133.],\n",
       "        [ 22.,  37.],\n",
       "        [103., 119.],\n",
       "        [ 56.,  70.],\n",
       "        [ 81., 101.],\n",
       "        [119., 133.],\n",
       "        [ 22.,  37.],\n",
       "        [103., 119.],\n",
       "        [ 56.,  70.],\n",
       "        [ 81., 101.],\n",
       "        [119., 133.],\n",
       "        [ 22.,  37.],\n",
       "        [103., 119.]])"
      ]
     },
     "execution_count": 22,
     "metadata": {},
     "output_type": "execute_result"
    }
   ],
   "source": [
    "y"
   ]
  },
  {
   "cell_type": "code",
   "execution_count": null,
   "metadata": {},
   "outputs": [],
   "source": []
  }
 ],
 "metadata": {
  "kernelspec": {
   "display_name": "Python 3",
   "language": "python",
   "name": "python3"
  },
  "language_info": {
   "codemirror_mode": {
    "name": "ipython",
    "version": 3
   },
   "file_extension": ".py",
   "mimetype": "text/x-python",
   "name": "python",
   "nbconvert_exporter": "python",
   "pygments_lexer": "ipython3",
   "version": "3.7.4"
  }
 },
 "nbformat": 4,
 "nbformat_minor": 4
}
