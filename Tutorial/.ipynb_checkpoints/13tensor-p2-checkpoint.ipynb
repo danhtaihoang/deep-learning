{
 "cells": [
  {
   "cell_type": "markdown",
   "metadata": {},
   "source": [
    "Refs: \\\n",
    "https://pytorch.org/docs/stable/tensors.html \\\n",
    "https://jovian.ai/aakashns/01-pytorch-basics \\\n",
    "https://www.youtube.com/watch?v=GIsg-ZUy0MY \\\n",
    "https://www.youtube.com/watch?v=exaWOE8jvy8"
   ]
  },
  {
   "cell_type": "code",
   "execution_count": 1,
   "metadata": {},
   "outputs": [],
   "source": [
    "import numpy as np\n",
    "import torch"
   ]
  },
  {
   "cell_type": "markdown",
   "metadata": {},
   "source": [
    "### Move tensors to GPU"
   ]
  },
  {
   "cell_type": "code",
   "execution_count": 2,
   "metadata": {},
   "outputs": [],
   "source": [
    "## we can create a tensor directly on GPU\n",
    "# x_gpu = torch.tensor([[11, 12, 13], [21, 22, 23]], device='cuda')"
   ]
  },
  {
   "cell_type": "code",
   "execution_count": 3,
   "metadata": {},
   "outputs": [
    {
     "name": "stdout",
     "output_type": "stream",
     "text": [
      "tensor([[11, 12, 13],\n",
      "        [21, 22, 23]])\n"
     ]
    }
   ],
   "source": [
    "## we could also copy a tensor from CPU onto GPU\n",
    "x = torch.tensor([[11, 12, 13], [21, 22, 23]])\n",
    "print(x)\n",
    "#x_gpu = x.to(device='cuda')\n",
    "#print(x_gpu)\n",
    "\n",
    "## we can decide which GPU we allocate the tensor if our machine has more than one GPU\n",
    "#x_gpu = x.to(device='cuda:0')\n",
    "#print(x_gpu)"
   ]
  },
  {
   "cell_type": "code",
   "execution_count": 4,
   "metadata": {},
   "outputs": [],
   "source": [
    "## move the tensor back to CPU:\n",
    "#x_cpu = x_gpu.to(device='cpu')"
   ]
  },
  {
   "cell_type": "code",
   "execution_count": 5,
   "metadata": {},
   "outputs": [],
   "source": [
    "## shorthand methods:\n",
    "## from CPU to GPU\n",
    "#x_gpu = x.cuda()  ## Defaults to GPU index 0 \n",
    "#x_gpu = x.cuda(0)\n",
    "\n",
    "## from GPU to CPU\n",
    "#x_cpu = x_gpu.cpu()"
   ]
  },
  {
   "cell_type": "markdown",
   "metadata": {},
   "source": [
    "### Interoperability with Numpy"
   ]
  },
  {
   "cell_type": "code",
   "execution_count": 6,
   "metadata": {},
   "outputs": [
    {
     "data": {
      "text/plain": [
       "array([[11., 12., 13.],\n",
       "       [21., 22., 23.]])"
      ]
     },
     "execution_count": 6,
     "metadata": {},
     "output_type": "execute_result"
    }
   ],
   "source": [
    "import numpy as np\n",
    "\n",
    "x = np.array([[11, 12, 13], [21, 22., 23]])\n",
    "x"
   ]
  },
  {
   "cell_type": "code",
   "execution_count": 7,
   "metadata": {},
   "outputs": [
    {
     "data": {
      "text/plain": [
       "tensor([[11., 12., 13.],\n",
       "        [21., 22., 23.]], dtype=torch.float64)"
      ]
     },
     "execution_count": 7,
     "metadata": {},
     "output_type": "execute_result"
    }
   ],
   "source": [
    "# convert a Numpy array to a PyTorch tensor using torch.from_numpy\n",
    "y = torch.from_numpy(x)  # doesn't create a copy of x\n",
    "y"
   ]
  },
  {
   "cell_type": "code",
   "execution_count": 8,
   "metadata": {},
   "outputs": [
    {
     "data": {
      "text/plain": [
       "dtype('float64')"
      ]
     },
     "execution_count": 8,
     "metadata": {},
     "output_type": "execute_result"
    }
   ],
   "source": [
    "x.dtype"
   ]
  },
  {
   "cell_type": "code",
   "execution_count": null,
   "metadata": {},
   "outputs": [],
   "source": []
  }
 ],
 "metadata": {
  "kernelspec": {
   "display_name": "Python 3",
   "language": "python",
   "name": "python3"
  },
  "language_info": {
   "codemirror_mode": {
    "name": "ipython",
    "version": 3
   },
   "file_extension": ".py",
   "mimetype": "text/x-python",
   "name": "python",
   "nbconvert_exporter": "python",
   "pygments_lexer": "ipython3",
   "version": "3.7.4"
  }
 },
 "nbformat": 4,
 "nbformat_minor": 4
}
