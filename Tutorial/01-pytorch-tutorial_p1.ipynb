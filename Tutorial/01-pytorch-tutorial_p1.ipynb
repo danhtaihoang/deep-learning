{
 "cells": [
  {
   "cell_type": "markdown",
   "metadata": {},
   "source": [
    "Refs: \\\n",
    "https://pytorch.org/docs/stable/tensors.html \\\n",
    "https://jovian.ai/aakashns/01-pytorch-basics \\\n",
    "https://www.youtube.com/watch?v=GIsg-ZUy0MY \\\n",
    "https://www.youtube.com/watch?v=exaWOE8jvy8"
   ]
  },
  {
   "cell_type": "code",
   "execution_count": 53,
   "metadata": {},
   "outputs": [],
   "source": [
    "import numpy as np\n",
    "import torch"
   ]
  },
  {
   "cell_type": "markdown",
   "metadata": {},
   "source": [
    "### Creating a tensor"
   ]
  },
  {
   "cell_type": "code",
   "execution_count": 34,
   "metadata": {},
   "outputs": [
    {
     "name": "stdout",
     "output_type": "stream",
     "text": [
      "tensor([7.0065e-45])\n"
     ]
    }
   ],
   "source": [
    "x = torch.empty(1)\n",
    "print(x)"
   ]
  },
  {
   "cell_type": "code",
   "execution_count": 35,
   "metadata": {},
   "outputs": [
    {
     "name": "stdout",
     "output_type": "stream",
     "text": [
      "tensor([ 0.0000e+00, -8.5899e+09,  0.0000e+00])\n"
     ]
    }
   ],
   "source": [
    "x = torch.empty(3)\n",
    "print(x)"
   ]
  },
  {
   "cell_type": "code",
   "execution_count": 36,
   "metadata": {},
   "outputs": [
    {
     "name": "stdout",
     "output_type": "stream",
     "text": [
      "tensor([[0., 0., 0.],\n",
      "        [0., 0., 0.]])\n"
     ]
    }
   ],
   "source": [
    "x = torch.empty(2, 3)\n",
    "print(x)"
   ]
  },
  {
   "cell_type": "code",
   "execution_count": 37,
   "metadata": {},
   "outputs": [
    {
     "data": {
      "text/plain": [
       "tensor([[0.0258, 0.9998],\n",
       "        [0.8737, 0.8037],\n",
       "        [0.5928, 0.7908]])"
      ]
     },
     "execution_count": 37,
     "metadata": {},
     "output_type": "execute_result"
    }
   ],
   "source": [
    "x = torch.rand(3,2)\n",
    "x"
   ]
  },
  {
   "cell_type": "code",
   "execution_count": 38,
   "metadata": {},
   "outputs": [
    {
     "data": {
      "text/plain": [
       "tensor([[1., 1.],\n",
       "        [1., 1.],\n",
       "        [1., 1.]])"
      ]
     },
     "execution_count": 38,
     "metadata": {},
     "output_type": "execute_result"
    }
   ],
   "source": [
    "x = torch.ones(3,2)\n",
    "x"
   ]
  },
  {
   "cell_type": "code",
   "execution_count": 39,
   "metadata": {},
   "outputs": [
    {
     "data": {
      "text/plain": [
       "tensor([[1, 1],\n",
       "        [1, 1],\n",
       "        [1, 1]], dtype=torch.int32)"
      ]
     },
     "execution_count": 39,
     "metadata": {},
     "output_type": "execute_result"
    }
   ],
   "source": [
    "x = torch.ones(3,2, dtype=torch.int32)\n",
    "x"
   ]
  },
  {
   "cell_type": "code",
   "execution_count": 40,
   "metadata": {},
   "outputs": [
    {
     "data": {
      "text/plain": [
       "torch.Size([3, 2])"
      ]
     },
     "execution_count": 40,
     "metadata": {},
     "output_type": "execute_result"
    }
   ],
   "source": [
    "x.size()"
   ]
  },
  {
   "cell_type": "code",
   "execution_count": 41,
   "metadata": {},
   "outputs": [
    {
     "data": {
      "text/plain": [
       "torch.Size([3, 2])"
      ]
     },
     "execution_count": 41,
     "metadata": {},
     "output_type": "execute_result"
    }
   ],
   "source": [
    "x.shape"
   ]
  },
  {
   "cell_type": "code",
   "execution_count": 42,
   "metadata": {
    "scrolled": true
   },
   "outputs": [
    {
     "data": {
      "text/plain": [
       "tensor([[11, 12],\n",
       "        [21, 22],\n",
       "        [31, 32]])"
      ]
     },
     "execution_count": 42,
     "metadata": {},
     "output_type": "execute_result"
    }
   ],
   "source": [
    "x = torch.tensor([[11, 12], [21, 22], [31, 32]])\n",
    "x"
   ]
  },
  {
   "cell_type": "code",
   "execution_count": 43,
   "metadata": {},
   "outputs": [
    {
     "data": {
      "text/plain": [
       "tensor([[11, 12],\n",
       "        [21, 22]])"
      ]
     },
     "execution_count": 43,
     "metadata": {},
     "output_type": "execute_result"
    }
   ],
   "source": [
    "x[:2,:]"
   ]
  },
  {
   "cell_type": "code",
   "execution_count": 44,
   "metadata": {},
   "outputs": [
    {
     "data": {
      "text/plain": [
       "tensor([12, 22, 32])"
      ]
     },
     "execution_count": 44,
     "metadata": {},
     "output_type": "execute_result"
    }
   ],
   "source": [
    "x[:,1]"
   ]
  },
  {
   "cell_type": "code",
   "execution_count": 45,
   "metadata": {},
   "outputs": [
    {
     "data": {
      "text/plain": [
       "tensor(12)"
      ]
     },
     "execution_count": 45,
     "metadata": {},
     "output_type": "execute_result"
    }
   ],
   "source": [
    "x[0,1]"
   ]
  },
  {
   "cell_type": "code",
   "execution_count": 47,
   "metadata": {},
   "outputs": [
    {
     "data": {
      "text/plain": [
       "12"
      ]
     },
     "execution_count": 47,
     "metadata": {},
     "output_type": "execute_result"
    }
   ],
   "source": [
    "x[0,1].item()"
   ]
  },
  {
   "cell_type": "markdown",
   "metadata": {},
   "source": [
    "### Operations"
   ]
  },
  {
   "cell_type": "code",
   "execution_count": 24,
   "metadata": {},
   "outputs": [
    {
     "name": "stdout",
     "output_type": "stream",
     "text": [
      "tensor(2.)\n",
      "tensor(102.)\n"
     ]
    }
   ],
   "source": [
    "x = torch.tensor(2.)\n",
    "print(x)\n",
    "\n",
    "y = x + 100\n",
    "print(y)"
   ]
  },
  {
   "cell_type": "code",
   "execution_count": 23,
   "metadata": {},
   "outputs": [
    {
     "name": "stdout",
     "output_type": "stream",
     "text": [
      "tensor([[11, 12],\n",
      "        [21, 22]])\n",
      "tensor([[111, 112],\n",
      "        [121, 122]])\n"
     ]
    }
   ],
   "source": [
    "x = torch.tensor([[11, 12], [21, 22]])\n",
    "print(x)\n",
    "\n",
    "y = x + 100\n",
    "print(y)"
   ]
  },
  {
   "cell_type": "code",
   "execution_count": 25,
   "metadata": {},
   "outputs": [
    {
     "name": "stdout",
     "output_type": "stream",
     "text": [
      "tensor([[11, 12],\n",
      "        [21, 22]])\n",
      "tensor([[1000, 2000],\n",
      "        [3000, 4000]])\n",
      "tensor([[1011, 2012],\n",
      "        [3021, 4022]])\n"
     ]
    }
   ],
   "source": [
    "## addition\n",
    "x = torch.tensor([[11, 12], [21, 22]])\n",
    "print(x)\n",
    "\n",
    "y = torch.tensor([[1000, 2000], [3000, 4000]])\n",
    "print(y)\n",
    "\n",
    "z = x + y\n",
    "print(z)"
   ]
  },
  {
   "cell_type": "code",
   "execution_count": 26,
   "metadata": {},
   "outputs": [
    {
     "name": "stdout",
     "output_type": "stream",
     "text": [
      "tensor([[11, 12],\n",
      "        [21, 22]])\n",
      "tensor([[1000, 2000],\n",
      "        [3000, 4000]])\n",
      "tensor([[11000, 24000],\n",
      "        [63000, 88000]])\n"
     ]
    }
   ],
   "source": [
    "## element multiplication\n",
    "x = torch.tensor([[11, 12], [21, 22]])\n",
    "print(x)\n",
    "\n",
    "y = torch.tensor([[1000, 2000], [3000, 4000]])\n",
    "print(y)\n",
    "\n",
    "z = x * y\n",
    "print(z)"
   ]
  },
  {
   "cell_type": "code",
   "execution_count": 31,
   "metadata": {},
   "outputs": [
    {
     "name": "stdout",
     "output_type": "stream",
     "text": [
      "tensor([[ 10, 100],\n",
      "        [ 20, 200]])\n",
      "tensor([[1000, 2000],\n",
      "        [3000, 4000]])\n",
      "tensor([[100.,  20.],\n",
      "        [150.,  20.]])\n"
     ]
    }
   ],
   "source": [
    "## element division\n",
    "x = torch.tensor([[10, 100], [20, 200]])\n",
    "print(x)\n",
    "\n",
    "y = torch.tensor([[1000, 2000], [3000, 4000]])\n",
    "print(y)\n",
    "\n",
    "z = y / x\n",
    "print(z)"
   ]
  },
  {
   "cell_type": "code",
   "execution_count": 50,
   "metadata": {},
   "outputs": [
    {
     "name": "stdout",
     "output_type": "stream",
     "text": [
      "tensor([[11, 12],\n",
      "        [21, 22],\n",
      "        [31, 32]])\n",
      "tensor([[11, 12, 21],\n",
      "        [22, 31, 32]])\n",
      "tensor([11, 12, 21, 22, 31, 32])\n"
     ]
    }
   ],
   "source": [
    "## reshape\n",
    "x = torch.tensor([[11, 12], [21, 22], [31, 32]])\n",
    "print(x)\n",
    "\n",
    "x1 = x.reshape(2,3)\n",
    "print(x1)\n",
    "\n",
    "x2 = x.reshape(-1,)\n",
    "print(x2)"
   ]
  },
  {
   "cell_type": "code",
   "execution_count": 58,
   "metadata": {},
   "outputs": [
    {
     "name": "stdout",
     "output_type": "stream",
     "text": [
      "tensor([[11, 12],\n",
      "        [21, 22],\n",
      "        [31, 32]])\n",
      "[[11 12]\n",
      " [21 22]\n",
      " [31 32]]\n",
      "<class 'numpy.ndarray'>\n",
      "[[11 12]\n",
      " [21 22]\n",
      " [31 32]]\n",
      "<class 'numpy.ndarray'>\n"
     ]
    }
   ],
   "source": [
    "## convert torch to numpy\n",
    "x = torch.tensor([[11, 12], [21, 22], [31, 32]])\n",
    "print(x)\n",
    "\n",
    "y = x.numpy()\n",
    "print(y)\n",
    "print(type(y))\n",
    "\n",
    "z = np.array(x)\n",
    "print(z)\n",
    "print(type(z))"
   ]
  },
  {
   "cell_type": "code",
   "execution_count": 60,
   "metadata": {},
   "outputs": [
    {
     "name": "stdout",
     "output_type": "stream",
     "text": [
      "[[11 12]\n",
      " [21 22]\n",
      " [31 32]]\n",
      "tensor([[11, 12],\n",
      "        [21, 22],\n",
      "        [31, 32]])\n",
      "  \n",
      "[[111 112]\n",
      " [121 122]\n",
      " [131 132]]\n",
      "tensor([[111, 112],\n",
      "        [121, 122],\n",
      "        [131, 132]])\n"
     ]
    }
   ],
   "source": [
    "## convert numpy to torch\n",
    "x = np.array([[11, 12], [21, 22], [31, 32]])\n",
    "print(x)\n",
    "\n",
    "y = torch.from_numpy(x)\n",
    "print(y)\n",
    "\n",
    "print('  ')\n",
    "x += 100\n",
    "print(x)\n",
    "\n",
    "print(y)"
   ]
  },
  {
   "cell_type": "code",
   "execution_count": null,
   "metadata": {},
   "outputs": [],
   "source": []
  }
 ],
 "metadata": {
  "kernelspec": {
   "display_name": "Python 3",
   "language": "python",
   "name": "python3"
  },
  "language_info": {
   "codemirror_mode": {
    "name": "ipython",
    "version": 3
   },
   "file_extension": ".py",
   "mimetype": "text/x-python",
   "name": "python",
   "nbconvert_exporter": "python",
   "pygments_lexer": "ipython3",
   "version": "3.7.4"
  }
 },
 "nbformat": 4,
 "nbformat_minor": 4
}
