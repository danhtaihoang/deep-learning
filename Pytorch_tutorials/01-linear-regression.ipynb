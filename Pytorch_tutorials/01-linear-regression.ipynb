{
 "cells": [
  {
   "cell_type": "markdown",
   "metadata": {},
   "source": [
    "## Linear Regression from scratch with PyTorch\n",
    "\n",
    "Credits: \\\n",
    "https://jovian.ai/aakashns/02-linear-regression"
   ]
  },
  {
   "cell_type": "code",
   "execution_count": 2,
   "metadata": {},
   "outputs": [],
   "source": [
    "import numpy as np\n",
    "import torch"
   ]
  },
  {
   "cell_type": "code",
   "execution_count": 4,
   "metadata": {},
   "outputs": [
    {
     "name": "stdout",
     "output_type": "stream",
     "text": [
      "[[ 73.  67.  43.]\n",
      " [ 91.  88.  64.]\n",
      " [ 87. 134.  58.]\n",
      " [102.  43.  37.]\n",
      " [ 69.  96.  70.]]\n",
      "(5, 3)\n"
     ]
    }
   ],
   "source": [
    "# features\n",
    "X = np.array([[73, 67, 43], \n",
    "              [91, 88, 64], \n",
    "              [87, 134, 58], \n",
    "              [102, 43, 37], \n",
    "              [69, 96, 70]], dtype='float32')\n",
    "\n",
    "print(X)\n",
    "print(X.shape)"
   ]
  },
  {
   "cell_type": "code",
   "execution_count": 5,
   "metadata": {},
   "outputs": [
    {
     "name": "stdout",
     "output_type": "stream",
     "text": [
      "[[ 56.  70.]\n",
      " [ 81. 101.]\n",
      " [119. 133.]\n",
      " [ 22.  37.]\n",
      " [103. 119.]]\n",
      "(5, 2)\n"
     ]
    }
   ],
   "source": [
    "# target\n",
    "y = np.array([[56, 70], \n",
    "              [81, 101], \n",
    "              [119, 133], \n",
    "              [22, 37], \n",
    "              [103, 119]], dtype='float32')\n",
    "print(y)\n",
    "print(y.shape)"
   ]
  },
  {
   "cell_type": "code",
   "execution_count": 7,
   "metadata": {},
   "outputs": [
    {
     "name": "stdout",
     "output_type": "stream",
     "text": [
      "X:\n",
      "tensor([[ 73.,  67.,  43.],\n",
      "        [ 91.,  88.,  64.],\n",
      "        [ 87., 134.,  58.],\n",
      "        [102.,  43.,  37.],\n",
      "        [ 69.,  96.,  70.]])\n",
      "y:\n",
      "tensor([[ 56.,  70.],\n",
      "        [ 81., 101.],\n",
      "        [119., 133.],\n",
      "        [ 22.,  37.],\n",
      "        [103., 119.]])\n"
     ]
    }
   ],
   "source": [
    "# Convert features and target to tensors\n",
    "X = torch.from_numpy(X)\n",
    "y = torch.from_numpy(y)\n",
    "print('X:')\n",
    "print(X)\n",
    "\n",
    "print('y:')\n",
    "print(y)"
   ]
  },
  {
   "cell_type": "markdown",
   "metadata": {},
   "source": [
    "### Linear regression model from scratch"
   ]
  },
  {
   "cell_type": "code",
   "execution_count": 8,
   "metadata": {},
   "outputs": [
    {
     "name": "stdout",
     "output_type": "stream",
     "text": [
      "n_samples: 5 n_features: 3\n",
      "n_targets: 2\n",
      "w:\n",
      "tensor([[-0.1482,  1.3129,  2.6688],\n",
      "        [ 1.0401, -0.9681,  0.6123]], requires_grad=True)\n",
      "b:\n",
      "tensor([-0.0477,  0.4939], requires_grad=True)\n"
     ]
    }
   ],
   "source": [
    "n_samples,n_features = X.shape\n",
    "print('n_samples:', n_samples, 'n_features:', n_features)\n",
    "\n",
    "n_targets = y.shape[1]\n",
    "print('n_targets:', n_targets)\n",
    "\n",
    "# Weights and biases\n",
    "w = torch.randn(n_targets, n_features, requires_grad=True)\n",
    "b = torch.randn(n_targets, requires_grad=True)\n",
    "print('w:')\n",
    "print(w)\n",
    "\n",
    "print('b:')\n",
    "print(b)"
   ]
  },
  {
   "cell_type": "code",
   "execution_count": 9,
   "metadata": {},
   "outputs": [],
   "source": [
    "def model(x):\n",
    "    return x @ w.t() + b   ## in PyTorch: @ represents matrix multiplication, .t() matrix transpose"
   ]
  },
  {
   "cell_type": "code",
   "execution_count": 10,
   "metadata": {},
   "outputs": [
    {
     "name": "stdout",
     "output_type": "stream",
     "text": [
      "tensor([[191.8617,  37.8871],\n",
      "        [272.8117,  49.1364],\n",
      "        [317.7859,  -3.2318],\n",
      "        [140.0414,  87.6130],\n",
      "        [302.5880,  22.1816]], grad_fn=<AddBackward0>)\n"
     ]
    }
   ],
   "source": [
    "y_pred = model(X)\n",
    "print(y_pred)"
   ]
  },
  {
   "cell_type": "markdown",
   "metadata": {},
   "source": [
    "### Loss function"
   ]
  },
  {
   "cell_type": "code",
   "execution_count": 11,
   "metadata": {},
   "outputs": [],
   "source": [
    "# MSE loss\n",
    "def mse(t1, t2):\n",
    "    diff = t1 - t2\n",
    "    return torch.sum(diff * diff) / diff.numel() ## .numel() returns number of elements"
   ]
  },
  {
   "cell_type": "code",
   "execution_count": 13,
   "metadata": {},
   "outputs": [
    {
     "name": "stdout",
     "output_type": "stream",
     "text": [
      "tensor(18275.0742, grad_fn=<DivBackward0>)\n"
     ]
    }
   ],
   "source": [
    "# Compute loss\n",
    "loss = mse(y_pred, y)\n",
    "print(loss)"
   ]
  },
  {
   "cell_type": "markdown",
   "metadata": {},
   "source": [
    "### Compute gradients"
   ]
  },
  {
   "cell_type": "code",
   "execution_count": 14,
   "metadata": {},
   "outputs": [],
   "source": [
    "# Compute gradients\n",
    "loss.backward()"
   ]
  },
  {
   "cell_type": "code",
   "execution_count": 15,
   "metadata": {
    "scrolled": true
   },
   "outputs": [
    {
     "name": "stdout",
     "output_type": "stream",
     "text": [
      "tensor([[-0.1482,  1.3129,  2.6688],\n",
      "        [ 1.0401, -0.9681,  0.6123]], requires_grad=True)\n",
      "tensor([[14095.7881, 15371.1406,  9597.2559],\n",
      "        [-4086.7883, -6417.7656, -3501.2354]])\n"
     ]
    }
   ],
   "source": [
    "# Gradients for weights\n",
    "print(w)\n",
    "print(w.grad)"
   ]
  },
  {
   "cell_type": "code",
   "execution_count": 16,
   "metadata": {},
   "outputs": [
    {
     "name": "stdout",
     "output_type": "stream",
     "text": [
      "tensor([[0., 0., 0.],\n",
      "        [0., 0., 0.]])\n",
      "tensor([0., 0.])\n"
     ]
    }
   ],
   "source": [
    "## Reset the gradients to zero, because PyTorch accumulates gradients,\n",
    "## i.e. the next time we call .backward on the loss, the new gradient values will\n",
    "## get added to the existing gradient values, which may lead to unexpected results.\n",
    "\n",
    "w.grad.zero_()\n",
    "b.grad.zero_()\n",
    "print(w.grad)\n",
    "print(b.grad)"
   ]
  },
  {
   "cell_type": "markdown",
   "metadata": {},
   "source": [
    "### Adjust weights and biases using gradient descent"
   ]
  },
  {
   "cell_type": "code",
   "execution_count": 22,
   "metadata": {},
   "outputs": [],
   "source": [
    "lr = 1e-5 ## learning rate\n",
    "\n",
    "for iloop in range(100):\n",
    "    # Generate predictions:\n",
    "    y_pred = model(X)\n",
    "    #print(y_pred)\n",
    "\n",
    "    # Calculate the loss\n",
    "    loss = mse(y_pred, y)\n",
    "    #print(iloop,loss)\n",
    "\n",
    "    # Compute gradients\n",
    "    loss.backward()\n",
    "    #print(w.grad)\n",
    "    #print(b.grad)\n",
    "\n",
    "    # Adjust weights & reset gradients:\n",
    "\n",
    "    ## with torch.no_grad() : indicate to PyTorch that we shouldn't track, calculate or modify gradients while updating\n",
    "    ## the weights and biases\n",
    "    with torch.no_grad():\n",
    "        w -= w.grad * lr\n",
    "        b -= b.grad * lr\n",
    "        w.grad.zero_()\n",
    "        b.grad.zero_()"
   ]
  },
  {
   "cell_type": "code",
   "execution_count": 23,
   "metadata": {},
   "outputs": [
    {
     "data": {
      "text/plain": [
       "tensor([[ 55.5011,  75.1806],\n",
       "        [ 90.6904, 104.7555],\n",
       "        [102.0740, 115.8369],\n",
       "        [ 12.4339,  64.9343],\n",
       "        [121.7139, 110.0489]], grad_fn=<AddBackward0>)"
      ]
     },
     "execution_count": 23,
     "metadata": {},
     "output_type": "execute_result"
    }
   ],
   "source": [
    "y_pred"
   ]
  },
  {
   "cell_type": "code",
   "execution_count": 24,
   "metadata": {},
   "outputs": [
    {
     "data": {
      "text/plain": [
       "tensor([[ 56.,  70.],\n",
       "        [ 81., 101.],\n",
       "        [119., 133.],\n",
       "        [ 22.,  37.],\n",
       "        [103., 119.]])"
      ]
     },
     "execution_count": 24,
     "metadata": {},
     "output_type": "execute_result"
    }
   ],
   "source": [
    "y"
   ]
  },
  {
   "cell_type": "code",
   "execution_count": null,
   "metadata": {},
   "outputs": [],
   "source": []
  }
 ],
 "metadata": {
  "kernelspec": {
   "display_name": "Python 3",
   "language": "python",
   "name": "python3"
  },
  "language_info": {
   "codemirror_mode": {
    "name": "ipython",
    "version": 3
   },
   "file_extension": ".py",
   "mimetype": "text/x-python",
   "name": "python",
   "nbconvert_exporter": "python",
   "pygments_lexer": "ipython3",
   "version": "3.7.4"
  }
 },
 "nbformat": 4,
 "nbformat_minor": 4
}
